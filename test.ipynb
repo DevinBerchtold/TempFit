{
 "cells": [
  {
   "cell_type": "code",
   "execution_count": null,
   "metadata": {},
   "outputs": [],
   "source": [
    "# %matplotlib widget\n",
    "# Import thermometer and load data\n",
    "from thermometer import *\n",
    "therms = [\n",
    "    # Thermometer('cooks/history_probe_1_20211113180049.csv'),\n",
    "    # Thermometer('cooks/history_probe_2_20211113180104.csv'),\n",
    "    # Thermometer('cooks/history_probe_3_20211113180132.csv'),\n",
    "    # Thermometer('cooks/history_probe_4_20211113180145.csv'),\n",
    "    # Thermometer('cooks/history_probe_1_20211201195009.csv'),\n",
    "    # Thermometer('cooks/history_probe_2_20211201195103.csv'),\n",
    "    # Thermometer('cooks/history_probe_3_20211201195129.csv'),\n",
    "    # Thermometer('cooks/history_probe_4_20211201195203.csv'),\n",
    "    # Thermometer('cooks/history_probe_1_20211215231055.csv'),\n",
    "    Thermometer('cooks/history_probe_2_20220328150956.csv')\n",
    "]\n",
    "therm = therms[-1]\n",
    "# Plot all data\n",
    "therm.diff_plot()\n",
    "# for t in therms:\n",
    "#     t.plot()\n",
    "# therm.dataframe"
   ]
  },
  {
   "cell_type": "code",
   "execution_count": null,
   "metadata": {},
   "outputs": [],
   "source": [
    "# Try estimation with different functions\n",
    "for f in ['p2', 'p3', 'tx']:\n",
    "    therm.estimate(205, time=240, fit_func=f, constrain=True, plot=True)"
   ]
  },
  {
   "cell_type": "code",
   "execution_count": null,
   "metadata": {},
   "outputs": [],
   "source": [
    "# Graph how estimation changed over time\n",
    "from thermometer import *\n",
    "t = Thermometer('cooks/history_probe_2_20220328150956.csv')\n",
    "t.plot_summary(195, step=1)\n",
    "Thermometer.print_times()"
   ]
  },
  {
   "cell_type": "code",
   "execution_count": null,
   "metadata": {},
   "outputs": [],
   "source": [
    "# Pulled Pork\n",
    "from thermometer import *\n",
    "t = Thermometer('cooks/history_probe_2_20220328150956.csv')\n",
    "t.estimate(205,fit_start=t.end-np.timedelta64(250, 'm'),fit_end=t.end-np.timedelta64(90, 'm'), fit_func='tx', plot=True, filename='plots/pork.svg')"
   ]
  },
  {
   "cell_type": "code",
   "execution_count": null,
   "metadata": {},
   "outputs": [],
   "source": [
    "# Turkey Breast\n",
    "from thermometer import *\n",
    "t = Thermometer('cooks/history_probe_4_20211201195203.csv')\n",
    "t.estimate(155, fit_start=t.start, fit_end=np.datetime64(\"2021-11-25T15:30:00\"), fit_func='tx', plot=True)"
   ]
  },
  {
   "cell_type": "code",
   "execution_count": null,
   "metadata": {},
   "outputs": [],
   "source": [
    "# Animate estimation over time\n",
    "from thermometer import *\n",
    "t = Thermometer('cooks/history_probe_2_20220328150956.csv')\n",
    "t.plot_animate(200, interval=130, time=153, step=10, fps=5, filename='output/animation.gif')"
   ]
  },
  {
   "cell_type": "code",
   "execution_count": null,
   "metadata": {},
   "outputs": [],
   "source": [
    "# Readme Files\n",
    "from thermometer import *\n",
    "# Estimation\n",
    "# t = Thermometer('cooks/history_probe_2_20220328150956.csv', style='dark')\n",
    "# t.estimate(205,fit_start=t.end-np.timedelta64(250, 'm'),fit_end=t.end-np.timedelta64(90, 'm'), fit_func='tx', plot=True, filename='plots/pork_dark.svg')\n",
    "# t = Thermometer('cooks/history_probe_2_20220328150956.csv', style='light')\n",
    "# t.estimate(205,fit_start=t.end-np.timedelta64(250, 'm'),fit_end=t.end-np.timedelta64(90, 'm'), fit_func='tx', plot=True, filename='plots/pork_light.svg')\n",
    "# t = Thermometer('cooks/history_probe_4_20211201195203.csv', style='dark')\n",
    "# t.estimate(155, fit_start=t.start, fit_end=np.datetime64(\"2021-11-25T15:30:00\"), fit_func='tx', plot=True, filename='plots/turkey_dark.svg')\n",
    "# t = Thermometer('cooks/history_probe_4_20211201195203.csv', style='light')\n",
    "# t.estimate(155, fit_start=t.start, fit_end=np.datetime64(\"2021-11-25T15:30:00\"), fit_func='tx', plot=True, filename='plots/turkey_light.svg')\n",
    "# Summary\n",
    "# t = Thermometer('cooks/history_probe_2_20220328150956.csv', style='dark')\n",
    "# t.plot_summary(195, interval=130, step=4, filename='plots/summary_constraints_dark.svg')\n",
    "# t = Thermometer('cooks/history_probe_2_20220328150956.csv', style='light')\n",
    "# t.plot_summary(195, interval=130, step=4, filename='plots/summary_constraints_light.svg')\n",
    "# Animation\n",
    "# t = Thermometer('cooks/history_probe_2_20220328150956.csv', style='dark')\n",
    "# t.plot_animate(200, interval=130, time=153, step=5, fps=5, filename='plots/animation_dark.webp')\n",
    "# t = Thermometer('cooks/history_probe_2_20220328150956.csv', style='light')\n",
    "# t.plot_animate(200, interval=130, time=153, step=5, fps=5, filename='plots/animation_light.webp')"
   ]
  }
 ],
 "metadata": {
  "interpreter": {
   "hash": "6e8de6dcee66d2d9848e835a6923a603fe9031c7dca702dcd9586213f49a0d04"
  },
  "kernelspec": {
   "display_name": "Python 3.9.5 64-bit",
   "language": "python",
   "name": "python3"
  },
  "language_info": {
   "codemirror_mode": {
    "name": "ipython",
    "version": 3
   },
   "file_extension": ".py",
   "mimetype": "text/x-python",
   "name": "python",
   "nbconvert_exporter": "python",
   "pygments_lexer": "ipython3",
   "version": "3.9.5"
  },
  "orig_nbformat": 4
 },
 "nbformat": 4,
 "nbformat_minor": 2
}
