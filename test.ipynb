{
 "cells": [
  {
   "cell_type": "code",
   "execution_count": null,
   "metadata": {},
   "outputs": [],
   "source": [
    "# Import thermometer and load data\n",
    "from thermometer import *\n",
    "therms = [\n",
    "    Thermometer('cooks/history_probe_1_20211113180049.csv'),\n",
    "    Thermometer('cooks/history_probe_2_20211113180104.csv'),\n",
    "    Thermometer('cooks/history_probe_3_20211113180132.csv'),\n",
    "    Thermometer('cooks/history_probe_4_20211113180145.csv'),\n",
    "    Thermometer('cooks/history_probe_1_20211201195009.csv'),\n",
    "    Thermometer('cooks/history_probe_2_20211201195103.csv'),\n",
    "    Thermometer('cooks/history_probe_3_20211201195129.csv'),\n",
    "    Thermometer('cooks/history_probe_4_20211201195203.csv'),\n",
    "    Thermometer('cooks/history_probe_1_20211215231055.csv'),\n",
    "    Thermometer('cooks/history_probe_2_20220328150956.csv')\n",
    "]\n",
    "therm = therms[-1]\n",
    "therm.dataframe"
   ]
  },
  {
   "cell_type": "code",
   "execution_count": null,
   "metadata": {},
   "outputs": [],
   "source": [
    "# Plot all data\n",
    "therm.plot()\n",
    "# for t in therms:\n",
    "#     t.plot()"
   ]
  },
  {
   "cell_type": "code",
   "execution_count": null,
   "metadata": {},
   "outputs": [],
   "source": [
    "# Try estimation with different functions\n",
    "for f in ['p2', 'p3', 'tx']:\n",
    "    therm.estimate(205,time=240,fit_func=f,plot=True)"
   ]
  },
  {
   "cell_type": "code",
   "execution_count": null,
   "metadata": {},
   "outputs": [],
   "source": [
    "# Try estimation with different time intervals\n",
    "intervals = [np.timedelta64(i, 'm') for i in [120]]\n",
    "times = [np.timedelta64(i, 'm') for i in range(180,-20,-20)]\n",
    "\n",
    "for i in intervals:\n",
    "    for t in times:\n",
    "        therm.estimate(205,start=therm.end-t-i,end=therm.end-t)\n",
    "\n",
    "therm.estimate(205,plot=True)"
   ]
  },
  {
   "cell_type": "code",
   "execution_count": null,
   "metadata": {},
   "outputs": [],
   "source": [
    "# Graph how estimation changed over time\n",
    "interval = np.timedelta64(140, 'm')\n",
    "times = range(-240,0,1)\n",
    "etas = []\n",
    "for time in times:\n",
    "    t = np.timedelta64(time, 'm')\n",
    "    etas.append(therm.estimate(205,start=therm.end+t-interval,end=therm.end+t,display=False))\n",
    "pyplot.scatter(times, etas)\n",
    "pyplot.axhline(y=etas[-1])\n",
    "pyplot.show()"
   ]
  },
  {
   "cell_type": "code",
   "execution_count": null,
   "metadata": {},
   "outputs": [],
   "source": [
    "# Pulled Pork\n",
    "from thermometer import *\n",
    "t = Thermometer('cooks/history_probe_2_20220328150956.csv')\n",
    "t.estimate(205,start=t.end-np.timedelta64(240, 'm'),end=t.end-np.timedelta64(80, 'm'),plot=True)"
   ]
  },
  {
   "cell_type": "code",
   "execution_count": null,
   "metadata": {},
   "outputs": [],
   "source": [
    "# Turkey Breast\n",
    "from thermometer import *\n",
    "t = Thermometer('cooks/history_probe_4_20211201195203.csv')\n",
    "t.estimate(155, start=t.start, end=np.datetime64(\"2021-11-25T15:30:00\"), plot=True)"
   ]
  }
 ],
 "metadata": {
  "interpreter": {
   "hash": "6e8de6dcee66d2d9848e835a6923a603fe9031c7dca702dcd9586213f49a0d04"
  },
  "kernelspec": {
   "display_name": "Python 3.9.5 64-bit",
   "language": "python",
   "name": "python3"
  },
  "language_info": {
   "codemirror_mode": {
    "name": "ipython",
    "version": 3
   },
   "file_extension": ".py",
   "mimetype": "text/x-python",
   "name": "python",
   "nbconvert_exporter": "python",
   "pygments_lexer": "ipython3",
   "version": "3.9.5"
  },
  "orig_nbformat": 4
 },
 "nbformat": 4,
 "nbformat_minor": 2
}
